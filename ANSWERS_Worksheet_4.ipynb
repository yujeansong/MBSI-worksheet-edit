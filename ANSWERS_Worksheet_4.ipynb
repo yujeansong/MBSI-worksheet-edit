{
 "cells": [
  {
   "cell_type": "markdown",
   "metadata": {
    "id": "KM4jxRl22rQA"
   },
   "source": [
    "# **Workshop #4 Worksheet**\n",
    "\n",
    "Welcome to Workshop #4! We're excited to share some fun and medically relevant problems for you to work through.\n",
    "\n",
    "In the upcoming exercises, we've tried to be less explicit in our instructions to help you practise your problem-solving skills. Please reach out to your tutor or the answer sheet if you run into any difficulties. \n",
    "\n",
    "Also, feel free to add code cells to your worksheet as your work.\n",
    "\n",
    "Unless otherwise indicated as exercises, the code cells in this worksheet are illustrative examples which you can run.\n",
    "\n",
    "---"
   ]
  },
  {
   "cell_type": "markdown",
   "metadata": {
    "id": "xm58zWao3ECH"
   },
   "source": [
    "# 1) Introduction to functions and libraries.\n",
    "\n",
    "This week, we're all about *levels of abstraction* and *modularity*, ie. ways to package code in compact and reusable forms. In the presentation today, we introduced:\n",
    "*  *functions*, which are a way of producing reusable, reliable chunks of code, which can be easily maintained, edited and implemented. \n",
    "*  *libraries* and *modules*, which are collections of pre-written code that can increase the versatility of your own program. Think of these as expansion packs of a board game, designed to enhance and enrich your life.\n",
    "\n",
    "These tools help keep your code neat, organised and readable!\n",
    "\n",
    "---\n",
    "\n",
    "# 2) Functions\n",
    "\n",
    "Functions are, at its core, a way to store code that you can reuse. This is so you won't have to copy/paste code every time you want your program to do the same things. \n",
    "\n",
    "Let's have an example that shows the beauty of functions.\n",
    "\n",
    "**Example: A non-function way of obtaining patient information from 3 different patients. *(Note: don't run this code as it has already been pre-run)*.**"
   ]
  },
  {
   "cell_type": "code",
   "execution_count": null,
   "metadata": {
    "colab": {
     "base_uri": "https://localhost:8080/",
     "height": 221
    },
    "id": "2sn7gfhong8a",
    "outputId": "6a79cfff-1080-4c9b-cc4a-437e693fdaac"
   },
   "outputs": [
    {
     "name": "stdout",
     "output_type": "stream",
     "text": [
      "What is your name? Alice\n",
      "How old are you? 12\n",
      "Your name is Alice and you are 12.\n",
      "\n",
      "What is your name? Bob\n",
      "How old are you? 53\n",
      "Your name is Bob and you are 53.\n",
      "\n",
      "What is your name? Charlie\n",
      "How old are you? 28\n",
      "Your name is Charlie and you are 28.\n",
      "\n"
     ]
    }
   ],
   "source": [
    "name = input(\"What is your name? \")\n",
    "age = input(\"How old are you? \")\n",
    "print(f\"Your name is {name} and you are {age}.\\n\")\n",
    "\n",
    "# I had to copy and paste this code\n",
    "name = input(\"What is your name? \")  \n",
    "age = input(\"How old are you? \")\n",
    "print(f\"Your name is {name} and you are {age}.\\n\")\n",
    "\n",
    "# I had to copy and paste this code too\n",
    "name = input(\"What is your name? \")  \n",
    "age = input(\"How old are you? \")\n",
    "print(f\"Your name is {name} and you are {age}.\\n\")"
   ]
  },
  {
   "cell_type": "markdown",
   "metadata": {
    "id": "6Rf046tLn_YS"
   },
   "source": [
    "Copy/pasting code like this is very tedious and inelegant! It will also present problems if you had to go back and change something; for example, suppose you wanted to change the prompt to \"What is your full name?\". You'd have to fix every single copy of your code.\n",
    "\n",
    "**Example: A functional way of obtaining patient information from 3 different patients. *(Note: don't run this code as it has already been pre-run)***"
   ]
  },
  {
   "cell_type": "code",
   "execution_count": null,
   "metadata": {
    "colab": {
     "base_uri": "https://localhost:8080/",
     "height": 221
    },
    "id": "UrhxHaGyoGkB",
    "outputId": "ceaf0024-bf3e-4757-c84f-8a6d0b34ba84"
   },
   "outputs": [
    {
     "name": "stdout",
     "output_type": "stream",
     "text": [
      "What is your name? Alice\n",
      "How old are you? 12\n",
      "Your name is Alice and you are 12.\n",
      "\n",
      "What is your name? Bob\n",
      "How old are you? 53\n",
      "Your name is Bob and you are 53.\n",
      "\n",
      "What is your name? Charlie\n",
      "How old are you? 28\n",
      "Your name is Charlie and you are 28.\n",
      "\n"
     ]
    }
   ],
   "source": [
    "def getPatientDeets():                    # defining a function\n",
    "  name = input(\"What is your name? \")     # tell the function what to do\n",
    "  age = input(\"How old are you? \")\n",
    "  print(f\"Your name is {name} and you are {age}.\\n\")\n",
    "\n",
    "getPatientDeets()  # For Alice\n",
    "getPatientDeets()  # For Bob\n",
    "getPatientDeets()  # For Charlie"
   ]
  },
  {
   "cell_type": "markdown",
   "metadata": {
    "id": "rWnXDasjopYI"
   },
   "source": [
    "Much better! But what is actually happening in the example above? What does `def` mean?? Read on and find out!"
   ]
  },
  {
   "cell_type": "markdown",
   "metadata": {
    "id": "E76Wwj5L-yR_"
   },
   "source": [
    "## 2.1) Anatomy of functions\n",
    "\n",
    "You have actually come across functions before: `print()`, `help()`, `input()`, `str()`, `int()`, `float()`, `round()`,`bool()`, `type()`. Let's look at what makes them functions.\n",
    "\n",
    "Functions contain a few lines of code that perform a specific task.\n",
    "\n",
    "*   Functions have a meaningful name. For example, `print` and `input` have meaningful names.\n",
    "*   Functions have parentheses `()`.\n",
    "*   You can use the `help()` function to access more information about any function.\n",
    "\n",
    "\n",
    "\n",
    "\n",
    "\n",
    "\n",
    "\n",
    "\n"
   ]
  },
  {
   "cell_type": "markdown",
   "metadata": {
    "id": "9xiCoG96D6lV"
   },
   "source": [
    "## 2.2) User-defined functions\n",
    "\n",
    "Python allows you to define your own functions using the following process:\n",
    "\n",
    "1.   Use the `def` keyword (short for define) to tell Python that you want to define a function.\n",
    "2.   Type a meaningful name for the function.\n",
    "3.   The function name is then followed by parentheses `()`.\n",
    "4.   Type a colon `:` after your parentheses. This tells Python that the next block of code will be indented.\n",
    "5.  *(Optional)* You can include a *doc-string*, written in triple-quotes (`\"\"\"doc-string\"\"\"`) to explain what your function does. The doc-string is what is displayed when you pass your function name to the `help()` function (more on this later).\n",
    "6.   Fill the indented block with code that you want to run whenever the function is executed.\n",
    "\n",
    "**Example - a simple function**\n",
    "\n",
    "In this function, which we've called `greet_patient()`, we print some simple greetings. "
   ]
  },
  {
   "cell_type": "code",
   "execution_count": null,
   "metadata": {
    "id": "1K2akvjcr4sL"
   },
   "outputs": [],
   "source": [
    "# Example\n",
    "def greet_patient():    # define the function\n",
    "  \"\"\"This function prints statements to greet your patient.\"\"\"    # doc-string\n",
    "  print('Good afternoon!')            # code line 1 of the function                             \n",
    "  print('I am a medical student.')    # code line 2 of the function"
   ]
  },
  {
   "cell_type": "markdown",
   "metadata": {
    "id": "gi6RB1l6r-mi"
   },
   "source": [
    "If you run the code cell above, nothing happens! This is because we've only **defined** the function; we haven't actually asked it to run yet. Asking a function to run is known as **calling** the function."
   ]
  },
  {
   "cell_type": "code",
   "execution_count": null,
   "metadata": {
    "colab": {
     "base_uri": "https://localhost:8080/",
     "height": 85
    },
    "id": "jigDgVJWr895",
    "outputId": "df812d04-5528-43d3-c61b-0219bdb0cea4"
   },
   "outputs": [
    {
     "name": "stdout",
     "output_type": "stream",
     "text": [
      "Start bell rings\n",
      "Good afternoon!\n",
      "I am a medical student.\n",
      "Final bell rings\n"
     ]
    }
   ],
   "source": [
    "print(\"Start bell rings\")    # bookend with code that you know will work\n",
    "greet_patient()              # call the function\n",
    "print(\"Final bell rings\")    # bookend with code that you know will work"
   ]
  },
  {
   "cell_type": "markdown",
   "metadata": {
    "id": "ulajodtKslZv"
   },
   "source": [
    "We got the function to run!\n",
    "\n",
    "In order to see what the function is about, we can use `help()`, which prints out the doc-string we defined with our function above."
   ]
  },
  {
   "cell_type": "code",
   "execution_count": null,
   "metadata": {
    "colab": {
     "base_uri": "https://localhost:8080/",
     "height": 102
    },
    "id": "u0hi-h_Ms13f",
    "outputId": "7a171cae-d654-489d-8b1a-54fd60fb4e15"
   },
   "outputs": [
    {
     "name": "stdout",
     "output_type": "stream",
     "text": [
      "Help on function greet_patient in module __main__:\n",
      "\n",
      "greet_patient()\n",
      "    This function prints statements to greet your patient.\n",
      "\n"
     ]
    }
   ],
   "source": [
    "help(greet_patient)"
   ]
  },
  {
   "cell_type": "markdown",
   "metadata": {
    "id": "AyWS4QB9D6P7"
   },
   "source": [
    "**Exercise 0 - Hello World**\n",
    "1. **Define a function called `my_first_function()`**\n",
    "2. **Within `my_first_function()`, write `print(\"Hello World\")`**\n",
    "3. **Call `my_first_function()`**"
   ]
  },
  {
   "cell_type": "code",
   "execution_count": null,
   "metadata": {
    "colab": {
     "base_uri": "https://localhost:8080/",
     "height": 34
    },
    "id": "Cjzr8rVcD46Q",
    "outputId": "299dd937-26af-47b4-b32e-d0c6759e5b94"
   },
   "outputs": [
    {
     "name": "stdout",
     "output_type": "stream",
     "text": [
      "Hello World\n"
     ]
    }
   ],
   "source": [
    "# Exercise 0 - Hello World\n",
    "\n",
    "def my_first_function():\n",
    "  print(\"Hello World\")\n",
    "\n",
    "my_first_function()"
   ]
  },
  {
   "cell_type": "markdown",
   "metadata": {
    "id": "6Amj1-pNt9z2"
   },
   "source": [
    "## 2.3) Inputs and outputs\n",
    "\n",
    "Functions are actually a lot more powerful than just being compact packaging for code. The real power of functions comes from their ability to take in *inputs* and generate *outputs*. \n",
    "\n",
    "![](https://mathinsight.org/media/image/image/function_machine.png)\n"
   ]
  },
  {
   "cell_type": "markdown",
   "metadata": {
    "id": "BeIngEag8TAW"
   },
   "source": [
    "### 2.3.1) Inputs\n",
    "\n",
    "The inputs for a function go inside the function's parentheses `()`. Some terms related to function inputs:\n",
    "\n",
    "* A *parameter* is an input variable used when defining the function\n",
    "* An *argument* is the value assigned to a particular parameter when calling the function.\n",
    "\n",
    "Here is a simple example.\n",
    "\n",
    "**Example - Simple input**"
   ]
  },
  {
   "cell_type": "code",
   "execution_count": null,
   "metadata": {
    "id": "6oZx1GHZ3Ush"
   },
   "outputs": [],
   "source": [
    "def f(x):   # define your own function\n",
    "  print(x)  # tell the function what to do"
   ]
  },
  {
   "cell_type": "markdown",
   "metadata": {
    "id": "Jco2lFHtwGTm"
   },
   "source": [
    "In the above example, the *parameter* is the variable `x`. Let's see what happens when we call this function."
   ]
  },
  {
   "cell_type": "code",
   "execution_count": null,
   "metadata": {
    "id": "FrfDGbl70nNE"
   },
   "outputs": [],
   "source": [
    "patient = \"There are some patients waiting\"      # define a variable\n",
    "\n",
    "print(\"Start of call\")      # bookend\n",
    "f(patient)                 # call the function f(x) and pass someData as the argument for x\n",
    "print(\"End of call\")        # bookend"
   ]
  },
  {
   "cell_type": "markdown",
   "metadata": {
    "id": "dw3ULhA7wQ1w"
   },
   "source": [
    "In the above example, we **passed** the **argument** `\"There are some patients waiting\"` to the **parameter** `x`. \n",
    "\n",
    "Let's see another example where we have multiple parameters. When we have multiple parameters, we use a comma `,` between the parameters and arguments to separate them.\n",
    "\n",
    "**Example - Multiple inputs**"
   ]
  },
  {
   "cell_type": "code",
   "execution_count": null,
   "metadata": {
    "id": "PxHf2S6g1khZ"
   },
   "outputs": [],
   "source": [
    "def g(x, y):              # define a function that takes two parameters\n",
    "  print(x + y)            # function will out put the addition of x and y\n",
    "\n",
    "print(\"Start of call\")\n",
    "g(5, 10)                  # call the function g(x, y) and pass 5 as x and 10 as y\n",
    "print(\"End of call\")        "
   ]
  },
  {
   "cell_type": "markdown",
   "metadata": {
    "id": "GXILomp_AaQ-"
   },
   "source": [
    "### 2.3.2) Outputs\n",
    "\n",
    "A *return statement* can be used to end the execution of the function call and “returns” the value of the expression following the `return` keyword. This is what constitutes a function's *output*. Note that whenever you `return` something, the function immediately terminates.\n",
    "\n",
    "If the `return` keyword is not present in a function, then function defaults to returning the special value `None`.\n"
   ]
  },
  {
   "cell_type": "code",
   "execution_count": null,
   "metadata": {
    "colab": {
     "base_uri": "https://localhost:8080/",
     "height": 34
    },
    "id": "Mtg4WW5nAgvF",
    "outputId": "c9bb3fb1-58a2-452d-9df4-8f7c6af99ba7"
   },
   "outputs": [
    {
     "name": "stdout",
     "output_type": "stream",
     "text": [
      "Good afternoon! I am a medical student.\n"
     ]
    }
   ],
   "source": [
    "def greet_patient2():                                # define a function\n",
    "  return \"Good afternoon! I am a medical student.\"   # return a string and terminates the function\n",
    "  print(\"Blah blah blah\")                            # this line doesn't actually run because the function has already terminatd\n",
    "\n",
    "print(greet_patient2())     # call your function then directly print the returned output"
   ]
  },
  {
   "cell_type": "markdown",
   "metadata": {
    "id": "bq9mwYbCyULp"
   },
   "source": [
    "You can also first assign the output value to a variable before printing."
   ]
  },
  {
   "cell_type": "code",
   "execution_count": null,
   "metadata": {
    "id": "gwm43BdjySbE"
   },
   "outputs": [],
   "source": [
    "x = greet_patient2()            # you can also call the function and save the return as a variable\n",
    "\n",
    "print(\"Start bell rings\")       # bookend\n",
    "print(x)                        # print your variable\n",
    "print(\"Final bell rings\")       # bookend"
   ]
  },
  {
   "cell_type": "markdown",
   "metadata": {
    "id": "EZduoj4JEFgI"
   },
   "source": [
    "**Exercise 1 - BMI Calculator**\n",
    "\n",
    "**Using the following steps, make a function with parameters for weight (kg) and height (m) which returns the patient's BMI (kg/m^2).**\n",
    "\n",
    "1.   **Define a function called `BMI_Calc`. It should take two parameters: `weight` and `height`**\n",
    "2.   **Within the function, calculate a patient's BMI from `weight` and `height` and store it in the variable `local_BMI`**\n",
    "3.   **Return `local_BMI`**\n",
    "4.   **Call the function and input some arguments for `weight` and `height`. Store the output of this function in the `global_BMI` variable**\n",
    "5.   **Print a string saying \"The patient's BMI is: ...\"**"
   ]
  },
  {
   "cell_type": "code",
   "execution_count": null,
   "metadata": {
    "colab": {
     "base_uri": "https://localhost:8080/",
     "height": 34
    },
    "id": "7VYUceFf8ke8",
    "outputId": "4c908c5b-918c-496a-8fca-78ccca8424b1"
   },
   "outputs": [
    {
     "name": "stdout",
     "output_type": "stream",
     "text": [
      "The patient's BMI is 23.808797045267237.\n"
     ]
    }
   ],
   "source": [
    "# Exercise 1 - BMI Calculator\n",
    "\n",
    "def BMI_Calc(weight, height):\n",
    "  local_BMI = weight / height**2\n",
    "  return local_BMI\n",
    "\n",
    "global_BMI = BMI_Calc(78, 1.81)\n",
    "print(f\"The patient's BMI is {global_BMI}.\")"
   ]
  },
  {
   "cell_type": "markdown",
   "metadata": {
    "id": "OG_C8Ndl--jP"
   },
   "source": [
    "**Exercise 2 - Temperature converter**\n",
    "\n",
    "**Your American patient just told you that her temperature is $101^\\circ F$. As this is utterly incomprehensible to you, you decide to write a program that converts between Fahrenheit and Celsius. To convert between Celsius and Fahrenheit:**\n",
    "\\begin{align*}\n",
    "C &= \\frac{5}{9}(F - 32)\\\\\n",
    "F &= \\frac{9}{5}C + 32\n",
    "\\end{align*}\n",
    "\n",
    "1. **Define a function which takes two parameters: a number value for the temperature, and the unit it's in (C or F). This function should return the temperature in the alternate unit.**\n",
    "\n",
    "  **You may need to use `if` statements and such to direct the program to different lines of code: to convert Fahrenheit input to Celsius output, and vice versa.**\n",
    "\n",
    "2. **Assign the returned output to a variable and print it in the format \"100 in Celsius is equal to 212 in Fahrenheit\" or vice versa for converting in the opposite direction.**"
   ]
  },
  {
   "cell_type": "code",
   "execution_count": null,
   "metadata": {
    "colab": {
     "base_uri": "https://localhost:8080/",
     "height": 51
    },
    "id": "RoN04VSAAYk6",
    "outputId": "11379739-e1ba-4de6-e814-b97863d41ce0"
   },
   "outputs": [
    {
     "name": "stdout",
     "output_type": "stream",
     "text": [
      "212.0\n",
      "30.0\n"
     ]
    }
   ],
   "source": [
    "# Exercise 2 \n",
    "\n",
    "def temp(T, unit):\n",
    "  if unit == \"C\" or unit == \"Celsius\":\n",
    "    F = 9/5 * T + 32\n",
    "    return F\n",
    "  elif unit == \"F\" or unit == \"Fahrenheit\":\n",
    "    c = 5/9 * (T - 32)\n",
    "    return c\n",
    "\n",
    "print(temp(100, \"Celsius\"))\n",
    "print(temp(86, \"Fahrenheit\"))"
   ]
  },
  {
   "cell_type": "markdown",
   "metadata": {
    "id": "bWuwwQG58Yt0"
   },
   "source": [
    "## 2.4) Advanced input control"
   ]
  },
  {
   "cell_type": "markdown",
   "metadata": {
    "id": "ah686RXo1I6T"
   },
   "source": [
    "### 2.4.1) Default arguments for parameters\n",
    "\n",
    "Sometimes, we want to have default arguments for parameters. We can define these default arguments when we're defining the function itself. Essentially, if we call the function without providing an argument for a parameter with a default, that parameter will take on the default value.\n",
    "However, if you define as a new value, it will be updated. Whether, if you don't update value, then it will take out as a default value that you defined.\n",
    "\n",
    "\n",
    "\n",
    "**Example: Default argument for parameter**\n",
    "\n",
    "In the example below, the parameter `y` is assigned the default value `1` with the assignment operator `=`. Note that all parameters with defaults must be defined after parameters without defaults\n",
    "\n",
    "\n"
   ]
  },
  {
   "cell_type": "code",
   "execution_count": null,
   "metadata": {
    "id": "rR5Ux8G_1I6U"
   },
   "outputs": [],
   "source": [
    "def add(x, y=1):\n",
    "  return x + y\n",
    "\n",
    "print(add(10, 20))  # x=10, y=20\n",
    "print(add(5))       # x=5, y defaults to 1"
   ]
  },
  {
   "cell_type": "markdown",
   "metadata": {
    "id": "OV-Uy66g1I6X"
   },
   "source": [
    "### 2.4.2) Keyword arguments\n",
    "\n",
    "As you may have already realised, arguments passed to a function are assigned to parameters in the order they were defined. For example, if `def f(x,y):`, then `f(10,20)` will assign `10` to `x`. If you want to specify explicitly which argument to assign to which parameter, you can use *keyword arguments*. This way, you can overcome parameter order when calling a function.\n",
    "\n",
    "Keyword arguments need to be written in the format `kwarg = val` where `kwarg` is the name of the parameter, and `val` is the argument. "
   ]
  },
  {
   "cell_type": "code",
   "execution_count": null,
   "metadata": {
    "id": "lFS1jnvU1I6b"
   },
   "outputs": [],
   "source": [
    "def divide(x, y):\n",
    "  return x / y\n",
    "\n",
    "print(divide(2, 3))   # x=2, y=3\n",
    "\n",
    "# the order of the arguments do not matter IFF you specify 'x=' and 'y=' in the argument section\n",
    "print(divide(y=2, x=3))"
   ]
  },
  {
   "cell_type": "markdown",
   "metadata": {
    "id": "cUEqd6KO63Nd"
   },
   "source": [
    "**Exercise 3 - Height converter**\n",
    "\n",
    "**To convert feet/inches to centimetres, we use the following formula:\n",
    "$$\\text{cm}=2.54\\times (\\text{inches} + 12\\times \\text{feet})$$**\n",
    "\n",
    "1. **Define a function `cm()` which takes the parameters `feet` and `inches` to *return* a person's height in centimetres.**\n",
    "\n",
    "2. **Set the default values of the `feet` and `inches` parameters to 0.**\n",
    "\n",
    "3. **When entering arguments into the function, experiment with which keyword arguments you enter. For example, you can pass just one argument `cm(inches = 65)`, or both in any order `cm(inches = 9, feet = 5)`**\n",
    "\n",
    "**However, if you only pass one argument as a positional argument rather than a keyword argument, e.g. `cm(5)`, you will get an error.**"
   ]
  },
  {
   "cell_type": "code",
   "execution_count": null,
   "metadata": {
    "colab": {
     "base_uri": "https://localhost:8080/",
     "height": 85
    },
    "id": "Hbj-STgk63Nh",
    "outputId": "4d3ecfd4-9a9d-4550-8e58-79165a4b0758"
   },
   "outputs": [
    {
     "name": "stdout",
     "output_type": "stream",
     "text": [
      "182.88\n",
      "165.1\n",
      "175.26\n",
      "175.26\n"
     ]
    }
   ],
   "source": [
    "# Exercise 3\n",
    "\n",
    "# using multiple arguments and keyword (or default) arguments\n",
    "def cm(feet = 0, inches = 0): # we are assigning a default value of 0 to each of the arguments in this function\n",
    "  \"\"\"Converts a length from feet and inches to centimetres.\"\"\"\n",
    "  return 2.54 * (inches + 12 * feet)\n",
    "\n",
    "height1 = cm(feet = 6)               # pass one keyword argument\n",
    "height2 = cm(inches = 65)            # pass another keyword argyment\n",
    "height3 = cm(feet = 5, inches = 9)   # pass both keyword arguments\n",
    "height4 = cm(inches = 9, feet = 5)   # you can change the argument order when using keyword arguments\n",
    "\n",
    "print(height1)\n",
    "print(height2)\n",
    "print(height3)\n",
    "print(height4)\n"
   ]
  },
  {
   "cell_type": "markdown",
   "metadata": {
    "id": "yAIuCMxbbMer"
   },
   "source": [
    "## 2.5) *Global variables* and *local variables*\n",
    "\n",
    "Working with functions introduces some important nuances.\n",
    "\n",
    "*   A *local variable* is a variable that is only accessible within a function. Note that arguments passed to parameters are stored inside the function as *local variables*.\n",
    "*   A *global variable* is a variable that can be accessed from anywhere in your program.\n",
    "\n",
    "Confused? Here are some examples to illustrate what we're talking about.\n",
    "\n",
    "**Example: Accessing a global variable from inside a function**"
   ]
  },
  {
   "cell_type": "code",
   "execution_count": null,
   "metadata": {
    "id": "kqyLz1RCDJxk"
   },
   "outputs": [],
   "source": [
    "# global variables are defined outside a function\n",
    "\n",
    "truth1 = \"I like coding!\"    # defines global variable\n",
    "\n",
    "def tell1():    \n",
    "  print(truth1)  # prints the global variable 'truth'\n",
    "\n",
    "tell1()          # call function\n",
    "print(truth1)    # print global variable"
   ]
  },
  {
   "cell_type": "markdown",
   "metadata": {
    "id": "fej0pHQoSl3c"
   },
   "source": [
    "This all makes sense because a function can access a global variable. However, just because a function can access a global variable doesn't mean it can change it! In fact, if you try to change a global variable from inside a function, it won't work.\n",
    "\n",
    "**Example: Erroneously attempting to access local variable form outside a cell**"
   ]
  },
  {
   "cell_type": "code",
   "execution_count": null,
   "metadata": {
    "id": "shqkxjrrGCH5"
   },
   "outputs": [],
   "source": [
    "# local variables are defined inside a function\n",
    "\n",
    "def tell2(): \n",
    "  truth2 = \"I like relaxing!\"    # defines local variable\n",
    "\n",
    "tell2()          # calls function\n",
    "print(truth2)    # attempt to print a global variable"
   ]
  },
  {
   "cell_type": "markdown",
   "metadata": {
    "id": "T59H2YMhPOW2"
   },
   "source": [
    "What is happening in the above cell? There is an error in the print statement. The error is occuring because we are attempting to print the variable `truth2`, which is not a *global variable*. In fact, `truth2` is a *local variable* that belongs to the `tell2()` function and cannot be used in a *global scope*. In order to make a local variable accessible globally, you must return the variable first.\n",
    "\n",
    "**Example: Correcting the above example**\n",
    "\n"
   ]
  },
  {
   "cell_type": "code",
   "execution_count": null,
   "metadata": {
    "id": "QKSWrRe1Hbr9"
   },
   "outputs": [],
   "source": [
    "def tell3(): \n",
    "  truth3 = \"I like relaxing!\"    # defines local variable\n",
    "  return truth3                 # returning the local variable\n",
    "\n",
    "x = tell3()         # calls function\n",
    "print(x)            # attempt to print the returned truth3"
   ]
  },
  {
   "cell_type": "markdown",
   "metadata": {
    "id": "D2plN1-oDKKX"
   },
   "source": [
    "Much better!"
   ]
  },
  {
   "cell_type": "markdown",
   "metadata": {
    "id": "VbUkAD-TBWr_"
   },
   "source": [
    "## 2.6) Built-in functions\n",
    "\n",
    "The Python built-in functions are functions whose functionality is pre-defined in Python. They are always present for use when using a Python interpreter, such as Google Colaboratory. You can find a list of built-in functions at: https://docs.python.org/3/library/functions.html. Some built-in functions you have already encountered are `print()`, `help()`, `input()`, `str()`, `int()`, `float()`, `round()`,`bool()`, `type()`.\n",
    "\n",
    "**Exercise 4 - abs**\n",
    "\n",
    "**The `abs()` function returns the absolute value of a numerical input (ie. the value of the number if ignoring the sign). This is a built-in function in Python.**\n",
    "\n",
    "1. **Write a line of code that calls the function and provide it with an input.** \n",
    "2. **Use the `help()` function on this function to return useful information.**\n"
   ]
  },
  {
   "cell_type": "code",
   "execution_count": null,
   "metadata": {
    "colab": {
     "base_uri": "https://localhost:8080/",
     "height": 119
    },
    "id": "UUrEmpVE8vok",
    "outputId": "1cb3c0f2-9b61-49c6-ed14-e1d2539cc788"
   },
   "outputs": [
    {
     "name": "stdout",
     "output_type": "stream",
     "text": [
      "5\n",
      "Help on built-in function abs in module builtins:\n",
      "\n",
      "abs(x, /)\n",
      "    Return the absolute value of the argument.\n",
      "\n"
     ]
    }
   ],
   "source": [
    "# Exercise 4 - abs\n",
    "\n",
    "print(abs(-5))\n",
    "\n",
    "print()\n",
    "\n",
    "help(abs)"
   ]
  },
  {
   "cell_type": "markdown",
   "metadata": {
    "id": "w8NgQSV7GON4"
   },
   "source": [
    "## 2.7) Calling functions within functions\n",
    "\n",
    "Of course, you can call functions from within functions. Let the following exercise be a guide.\n",
    "\n",
    "**Exercise 5 - QTc**\n",
    "\n",
    "**The QT-corrected time (in ms) is given by the following formula: $$QTc=\\frac{QT}{\\sqrt{RR}}$$where $QT$ is the QT-segment interval (in ms) seen on ECG , and $RR$ is the time between consecutive $QRS$ complexes (in s).**\n",
    "\n",
    "1.  **Write a function that takes in a number and returns its square-root (ie. raised to the 0.5 power)**\n",
    "2.  **Write another function that takes in QT and RR, calculates the QTc and returns this QTc. You should use the square-root function you wrote in Part 1.**"
   ]
  },
  {
   "cell_type": "code",
   "execution_count": null,
   "metadata": {
    "colab": {
     "base_uri": "https://localhost:8080/",
     "height": 34
    },
    "id": "5O9aOSiZGZqU",
    "outputId": "abfd0ae9-cc3c-4f0f-bb4b-63b7fdbed881"
   },
   "outputs": [
    {
     "name": "stdout",
     "output_type": "stream",
     "text": [
      "447.21359549995793\n"
     ]
    }
   ],
   "source": [
    "# Exercise 5 - QTc\n",
    "\n",
    "def sqrt_fn(a):\n",
    "  return a**0.5\n",
    "\n",
    "def QTc(QT, RR):\n",
    "  return QT / sqrt_fn(RR)\n",
    "\n",
    "print(QTc(400, 0.8))"
   ]
  },
  {
   "cell_type": "markdown",
   "metadata": {
    "id": "gLL1tVQPEowy"
   },
   "source": [
    "---\n",
    "\n",
    "# 3) Introduction to libraries and modules\n",
    "\n",
    "The libraries and modules listed in the Workshop 4 slides were:\n",
    "*   os\n",
    "*   math\n",
    "*   random\n",
    "*   time\n",
    "*   string\n",
    "*   numpy\n",
    "*   scipy\n",
    "*   pandas\n",
    "*   matplotlib\n",
    "*   tensorflow\n",
    "\n",
    "This list is just a small subset of the available scaffolding that you can use to build your own programs. We will only use some of these them in these workshops to illustrate their utility at performing certain tasks. If you want to learn more about these programs, Google is your friend (also, feel free to ask the tutors).\n",
    "\n",
    "**Example**\n",
    "\n",
    "Below are examples of how to use a few of these libraries and modules. In order to use a module, we use the `import` keyword. \n",
    "\n",
    "Please note the in-built `dir()` function. This powerful function returns a list of the *attributes* and *methods* of the object passed as an *argument* into this function. In other words, the `dir()` function allows you to investigate the constituent variables, functions and modules available in the stuff you import."
   ]
  },
  {
   "cell_type": "code",
   "execution_count": null,
   "metadata": {
    "colab": {
     "base_uri": "https://localhost:8080/",
     "height": 54
    },
    "id": "LDi00zyDEuUP",
    "outputId": "a8a3a3d0-942c-4d3b-864b-4b01d7024dd2"
   },
   "outputs": [
    {
     "name": "stdout",
     "output_type": "stream",
     "text": [
      "['__doc__', '__loader__', '__name__', '__package__', '__spec__', 'acos', 'acosh', 'asin', 'asinh', 'atan', 'atan2', 'atanh', 'ceil', 'copysign', 'cos', 'cosh', 'degrees', 'e', 'erf', 'erfc', 'exp', 'expm1', 'fabs', 'factorial', 'floor', 'fmod', 'frexp', 'fsum', 'gamma', 'gcd', 'hypot', 'inf', 'isclose', 'isfinite', 'isinf', 'isnan', 'ldexp', 'lgamma', 'log', 'log10', 'log1p', 'log2', 'modf', 'nan', 'pi', 'pow', 'radians', 'sin', 'sinh', 'sqrt', 'tan', 'tanh', 'tau', 'trunc']\n"
     ]
    }
   ],
   "source": [
    "import math        # importing math module\n",
    "print(dir(math))   # scroll along to see the 'pi' variable"
   ]
  },
  {
   "cell_type": "markdown",
   "metadata": {
    "id": "oE_GiHXokJBL"
   },
   "source": [
    "## 3.1) The `math` module\n",
    "\n",
    "The `math` module contains several important mathematical functions and objects. For example, it has the trigonometric functions, logarithmic functions, $\\pi$, $e$ and much much more. Refer to the above example on `dir(math)` to see a full list of what `math` contains.\n",
    "\n",
    "Inspecting the `dir(math)`, we see that `math` has an object called `pi`. To check what this is, we run:\n",
    "\n",
    "**Example: $\\pi$**"
   ]
  },
  {
   "cell_type": "code",
   "execution_count": null,
   "metadata": {
    "id": "e2DAujwUI4V4"
   },
   "outputs": [],
   "source": [
    "print(math.pi) # access the pi number"
   ]
  },
  {
   "cell_type": "markdown",
   "metadata": {
    "id": "qDV7S5fmAxw0"
   },
   "source": [
    "The decimal point `.` is necessary between `math` and `pi`, to show that `pi` is part of the `math` module.\n",
    "\n",
    "**Example: using $\\pi$**"
   ]
  },
  {
   "cell_type": "code",
   "execution_count": null,
   "metadata": {
    "id": "f72ZB04SJ6DT"
   },
   "outputs": [],
   "source": [
    "# calculate the volume of a sphere\n",
    "\n",
    "pi = math.pi # store the pi number as the variable `pi`\n",
    "\n",
    "def volume(r):\n",
    "  \"\"\"Returns the volume of a sphere with radius r.\"\"\"\n",
    "  v = 4/3 * pi * r**3\n",
    "  return v\n",
    "\n",
    "print(volume(2))\n"
   ]
  },
  {
   "cell_type": "markdown",
   "metadata": {
    "id": "UwxT5XD0AWQk"
   },
   "source": [
    "There are a number of different ways to import stuff."
   ]
  },
  {
   "cell_type": "code",
   "execution_count": null,
   "metadata": {
    "id": "3rheCxm2AaJ3"
   },
   "outputs": [],
   "source": [
    "import math           # This just imports math\n",
    "print(math.pi)        # We need the decimal point to access pi as pi is a part of math"
   ]
  },
  {
   "cell_type": "code",
   "execution_count": null,
   "metadata": {
    "id": "Ncm7-KqpCMi5"
   },
   "outputs": [],
   "source": [
    "import math as mth    # Import the module as an abbreviation\n",
    "print(mth.pi)         # pi is now part of the abbreviated module mth"
   ]
  },
  {
   "cell_type": "code",
   "execution_count": null,
   "metadata": {
    "id": "3JdsfcOyA9Vj"
   },
   "outputs": [],
   "source": [
    "from math import *    # Imports everything from math, including pi\n",
    "print(pi)             # We don't need the decimal point anymore because pi is now a variable in our program"
   ]
  },
  {
   "cell_type": "code",
   "execution_count": null,
   "metadata": {
    "id": "MQiYxNSVA9ZR"
   },
   "outputs": [],
   "source": [
    "from math import pi   # Import *only* pi from math and nothing else\n",
    "print(pi)             # We don't need the decimal point anymore because pi is now a variable in our program"
   ]
  },
  {
   "cell_type": "markdown",
   "metadata": {
    "id": "W19L4zU3B0Qh"
   },
   "source": [
    "Ultimately, which way you choose to import is up to you and the specific task you're doing."
   ]
  },
  {
   "cell_type": "markdown",
   "metadata": {
    "id": "kgocbKvx9V6h"
   },
   "source": [
    "**Exercise 6 - Half life**\n",
    "\n",
    "**You have just administered $d_0$ units of drug to a patient. This drug has a half-life of $t_{h}$. The time $t$ it takes for the drug level to fall below $d$ units is given by this equation:**\n",
    "\n",
    "$$t=t_{h}\\times \\frac{\\log_{10}(d)-log_{10}(d_0)}{\\log_{10}(0.5)}$$\n",
    "\n",
    "**where $\\log_{10}$ is the log base 10 function.**\n",
    "\n",
    "1.  **Look around in the `math` module and see if you can find a function that lets you perform $\\log_{10}$.**\n",
    "2.  **Write a function that calculates $t$ given $t_{h}$, $d_0$ and $d$. Test your program on the following data: $t_{h}=2$ hrs, $d_0=100$mg, $d=30$mg**\n",
    "\n"
   ]
  },
  {
   "cell_type": "code",
   "execution_count": null,
   "metadata": {
    "id": "LQ3eopCZ9VUS"
   },
   "outputs": [],
   "source": [
    "# Exercise 6 - Half life\n",
    "from math import *\n",
    "\n",
    "def halfLife(th, d0, d):\n",
    "  t = th * (log10(d) - log10(d0)) / log10(0.5)\n",
    "  return (t)\n",
    "\n",
    "print(f\"t = {halfLife(2, 100, 30)} hrs\")"
   ]
  },
  {
   "cell_type": "markdown",
   "metadata": {
    "id": "SuZ9ZwSDKhgo"
   },
   "source": [
    "## 3.2) The `random` module\n",
    "\n",
    "The `random` module gives you access to a number of functions that deal with random number generation and randomisation.\n",
    "\n",
    "**Example**\n",
    "\n",
    "To use the random module, follow similar steps as for the math module."
   ]
  },
  {
   "cell_type": "code",
   "execution_count": null,
   "metadata": {
    "id": "adSmVs5eeP97"
   },
   "outputs": [],
   "source": [
    "import random as rd       # import as an abbreviation\n",
    "print(dir(rd))\n",
    "# use the \".\" operator to access the attributes of the module"
   ]
  },
  {
   "cell_type": "code",
   "execution_count": null,
   "metadata": {
    "id": "iWTYw6es7dmz"
   },
   "outputs": [],
   "source": [
    "# print a random integer inclusive of two bounding values\n",
    "print(rd.randint(0, 20))\n",
    "# re-run the cell a few times and see what happens to the output"
   ]
  },
  {
   "cell_type": "code",
   "execution_count": null,
   "metadata": {
    "id": "5jyJQcSDeXvB"
   },
   "outputs": [],
   "source": [
    "# print a random float between 0 and 1\n",
    "print(rd.random())\n",
    "# re-run the cell a few times and see what happens to the output"
   ]
  },
  {
   "cell_type": "markdown",
   "metadata": {
    "id": "ToGu0deQFY68"
   },
   "source": [
    "**Exercise 7 - The real OSCE marking scheme**\n",
    "\n",
    "**You are an examiner for the end-of-year OSCEs. It is commonly known that the marking is random, with a student having a 72% chance of passing and 28% chance of failing. The MDHS has tasked you with programming a random number generator (RNG) that can be used for marking.**\n",
    "1. **Use the `random` module and its `random()` function to generate a random number between 0 and 1.**\n",
    "2. **From the result, use an `if`-`else` statement to report whether a student has passed or failed.**"
   ]
  },
  {
   "cell_type": "code",
   "execution_count": null,
   "metadata": {
    "colab": {
     "base_uri": "https://localhost:8080/",
     "height": 34
    },
    "id": "d11FnCwnFbB8",
    "outputId": "45518886-ce24-4541-ac41-bbb1d63077eb"
   },
   "outputs": [
    {
     "name": "stdout",
     "output_type": "stream",
     "text": [
      "You pass!\n"
     ]
    }
   ],
   "source": [
    "# Exercise 7 - OSCE\n",
    "\n",
    "import random as rd\n",
    "\n",
    "if rd.random() <= 0.72:\n",
    "  print(\"You pass!\")\n",
    "else:\n",
    "  print(\"You fail!\")"
   ]
  },
  {
   "cell_type": "markdown",
   "metadata": {
    "id": "fcX6PNF4BuOl"
   },
   "source": [
    "**Exercise 8 - Two dice**\n",
    "\n",
    "**You are the manager of the MD Casino. Unfortunately, someone stole the dice, presumably to help pay their HECS debts. You decide to write a Python program that can simulate the throwing of two dice.**\n",
    "\n",
    "1. **Write a function: within this function, generate two different random integers each between 1 and 6. Then, return the sum of these integers.**\n",
    "2. **Call your function 5 times and print the output of each function call.**"
   ]
  },
  {
   "cell_type": "code",
   "execution_count": null,
   "metadata": {
    "colab": {
     "base_uri": "https://localhost:8080/",
     "height": 102
    },
    "id": "pUgErVpWBxPl",
    "outputId": "f5153cb8-9397-4e2e-fced-90379fa74154"
   },
   "outputs": [
    {
     "name": "stdout",
     "output_type": "stream",
     "text": [
      "10\n",
      "4\n",
      "7\n",
      "7\n",
      "5\n"
     ]
    }
   ],
   "source": [
    "# Exercise 8 - Two dice\n",
    "import random as rd\n",
    "\n",
    "def two_dice():\n",
    "  a = rd.randint(1,6)\n",
    "  b = rd.randint(1,6)\n",
    "  return a+b\n",
    "\n",
    "print(two_dice())\n",
    "print(two_dice())\n",
    "print(two_dice())\n",
    "print(two_dice())\n",
    "print(two_dice())"
   ]
  },
  {
   "cell_type": "markdown",
   "metadata": {},
   "source": [
    "## 3.3) Matplotlib\n",
    "\n",
    "Matplotlib is a plotting package in Python that allows for easy data visualisation."
   ]
  },
  {
   "cell_type": "markdown",
   "metadata": {},
   "source": [
    "**Exercise 1**\n",
    "\n",
    "First we import the necesarry packages and modules"
   ]
  },
  {
   "cell_type": "code",
   "execution_count": 5,
   "metadata": {},
   "outputs": [],
   "source": [
    "import matplotlib.pyplot as plt\n",
    "import numpy as np"
   ]
  },
  {
   "cell_type": "markdown",
   "metadata": {},
   "source": [
    "Next we prepare a dataset to plot, such as x, where x is an array of 100 equally distributed numbers between 1 and 10. To do this, we require the numpy package. Numpy is a mathematical package within Python and is translated into \"numerical Python\".\n",
    "\n",
    "Numpy will allow us to create this dataset using a command called linspace. Linspace is a linearly spaced vector."
   ]
  },
  {
   "cell_type": "code",
   "execution_count": 22,
   "metadata": {},
   "outputs": [],
   "source": [
    "# Prepare the dataset\n",
    "x = np.linspace(1, 10, 101) # list of numbers from 1 to 101 in steps of 10 so (1, 11, 21, 31...)"
   ]
  },
  {
   "cell_type": "markdown",
   "metadata": {},
   "source": [
    "Remember, we imported numpy as np, thus we can abbreviate the package everytime we need to use it.\n",
    "\n",
    "Now we can plot our dataset. To do this, we require the matplotlib package which was imported as plt."
   ]
  },
  {
   "cell_type": "code",
   "execution_count": 23,
   "metadata": {},
   "outputs": [
    {
     "data": {
      "text/plain": [
       "[<matplotlib.lines.Line2D at 0x7f216aca4c50>]"
      ]
     },
     "execution_count": 23,
     "metadata": {},
     "output_type": "execute_result"
    },
    {
     "data": {
      "image/png": "[encoded data removed]",
      "text/plain": [
       "<Figure size 432x288 with 1 Axes>"
      ]
     },
     "metadata": {
      "needs_background": "light"
     },
     "output_type": "display_data"
    }
   ],
   "source": [
    "plt.plot(x, x, label = 'linear')"
   ]
  },
  {
   "cell_type": "code",
   "execution_count": 8,
   "metadata": {},
   "outputs": [
    {
     "data": {
      "text/plain": [
       "<function matplotlib.pyplot.show(*args, **kw)>"
      ]
     },
     "execution_count": 8,
     "metadata": {},
     "output_type": "execute_result"
    },
    {
     "data": {
      "image/png": "[encoded data removed]",
      "text/plain": [
       "<Figure size 432x288 with 1 Axes>"
      ]
     },
     "metadata": {
      "needs_background": "light"
     },
     "output_type": "display_data"
    }
   ],
   "source": [
    "plt.plot(x, x, label = 'linear')\n",
    "plt.legend('x')\n",
    "plt.show"
   ]
  },
  {
   "cell_type": "code",
   "execution_count": 9,
   "metadata": {},
   "outputs": [
    {
     "data": {
      "text/plain": [
       "[<matplotlib.lines.Line2D at 0x7f217104ff50>]"
      ]
     },
     "execution_count": 9,
     "metadata": {},
     "output_type": "execute_result"
    },
    {
     "data": {
      "image/png": "[encoded data removed]",
      "text/plain": [
       "<Figure size 432x288 with 1 Axes>"
      ]
     },
     "metadata": {
      "needs_background": "light"
     },
     "output_type": "display_data"
    }
   ],
   "source": [
    "y = np.sin(x)\n",
    "plt.plot (x, y)"
   ]
  },
  {
   "cell_type": "code",
   "execution_count": 10,
   "metadata": {},
   "outputs": [
    {
     "data": {
      "text/plain": [
       "Text(0, 0.5, 'sin x')"
      ]
     },
     "execution_count": 10,
     "metadata": {},
     "output_type": "execute_result"
    },
    {
     "data": {
      "image/png": "[encoded data removed]",
      "text/plain": [
       "<Figure size 432x288 with 1 Axes>"
      ]
     },
     "metadata": {
      "needs_background": "light"
     },
     "output_type": "display_data"
    }
   ],
   "source": [
    "plt.plot (x, np.sin(x), color='blue')\n",
    "plt.title('Sine Wave')\n",
    "plt.xlabel('x')\n",
    "plt.ylabel('sin x')"
   ]
  },
  {
   "cell_type": "code",
   "execution_count": 11,
   "metadata": {},
   "outputs": [
    {
     "data": {
      "text/plain": [
       "Text(0, 0.5, 'sin x')"
      ]
     },
     "execution_count": 11,
     "metadata": {},
     "output_type": "execute_result"
    },
    {
     "data": {
      "image/png": "[encoded data removed]",
      "text/plain": [
       "<Figure size 432x288 with 1 Axes>"
      ]
     },
     "metadata": {
      "needs_background": "light"
     },
     "output_type": "display_data"
    }
   ],
   "source": [
    "plt.plot (x, np.sin(x), color='blue')\n",
    "plt.plot (x, np.sin(x - 1), color='g')\n",
    "plt.plot (x, np.sin(x - 2), color='chartreuse') # matplotlib supports HTML color names\n",
    "plt.title('Sine Wave')\n",
    "plt.xlabel('x')\n",
    "plt.ylabel('sin x')"
   ]
  },
  {
   "cell_type": "markdown",
   "metadata": {},
   "source": [
    "**Exercise 1**\n",
    "\n",
    "**From the previous example, we have the equation** \n",
    "\n",
    "$$t=t_{h}\\times \\frac{\\log_{10}(d)-log_{10}(d_0)}{\\log_{10}(0.5)}$$\n",
    "\n",
    "**We can adapt this to an xy graph by changing the t and d variables, that way we can plot it with matplotlib.**\n",
    "\n",
    "$$y=2\\times \\frac{\\log_{10}(x)-log_{10}(100)}{\\log_{10}(0.5)}$$"
   ]
  },
  {
   "cell_type": "code",
   "execution_count": 25,
   "metadata": {},
   "outputs": [
    {
     "data": {
      "text/plain": [
       "Text(0, 0.5, 'Drug [mg]')"
      ]
     },
     "execution_count": 25,
     "metadata": {},
     "output_type": "execute_result"
    },
    {
     "data": {
      "image/png": "[encoded data removed]",
      "text/plain": [
       "<Figure size 432x288 with 1 Axes>"
      ]
     },
     "metadata": {
      "needs_background": "light"
     },
     "output_type": "display_data"
    }
   ],
   "source": [
    "# With the equation provided, try to graph y as a function of x\n",
    "y = 2 * (np.log(x) - np.log(100))/np.log(0.5)\n",
    "plt.plot (x, y)         \n",
    "plt.title ('Drug Half Life')\n",
    "plt.xlabel ('Time [hours]')\n",
    "plt.ylabel ('Drug [mg]')"
   ]
  },
  {
   "cell_type": "markdown",
   "metadata": {
    "id": "uHuFWZ17-6YH"
   },
   "source": [
    "---\n",
    "\n",
    "# 4) Applications of functions and libraries\n",
    "\n",
    "Let's combine functions and libraries in this consolidative example.\n",
    "\n",
    "**Example**\n",
    "\n",
    "It is well known that human heart rates can vary. For the sake of this example, we will consider a heart rate range of 40 bpm to 130 bpm. We will create a small program below that generates a random heart rate for two patients and prints a reaction depending on the heart rate. \n",
    "\n",
    "Run the cell a few times and see what happens!\n",
    "\n",
    "There are no comments in the below code block to encourage you to work out how the variables are moving between the three functions. Try reading the code from bottom to top, following one variable at a time. If you are unsure, ask your tutors. "
   ]
  },
  {
   "cell_type": "code",
   "execution_count": null,
   "metadata": {
    "id": "DJSJlL54BlIZ"
   },
   "outputs": [],
   "source": [
    "import random as rd\n",
    "\n",
    "def generate_HR():\n",
    "  HR_patient = rd.randint(40, 130)\n",
    "  return HR_patient\n",
    "\n",
    "def reaction(HR):\n",
    "  if HR < 60:\n",
    "    return print(\"The patient is bradycardic. Get help!\")\n",
    "  elif 60 <= HR < 100:\n",
    "    return print(\"The patient is normocardic. Everything is fine.\")\n",
    "  elif HR >= 100:\n",
    "    return print(\"The patient is tachycardic. Panic!\")\n",
    "\n",
    "def statement(no, HR):\n",
    "  print(f\"The heart rate of patient #{no} is: {HR} bpm\")\n",
    "  reaction(HR)\n",
    "\n",
    "HR_patient1 = generate_HR()\n",
    "statement(1, HR_patient1)\n",
    "print()\n",
    "HR_patient2 = generate_HR()\n",
    "statement(2, HR_patient2)\n",
    "print()\n",
    "HR_patient3 = generate_HR()\n",
    "statement(3, HR_patient3)"
   ]
  },
  {
   "cell_type": "markdown",
   "metadata": {
    "id": "10EiObdTLCGl"
   },
   "source": [
    "Here is another example of functions.\n",
    "\n",
    "**Example: Timezone conversion**"
   ]
  },
  {
   "cell_type": "code",
   "execution_count": null,
   "metadata": {
    "id": "OPK4HyTtLDYN"
   },
   "outputs": [],
   "source": [
    "# mrwolf returns the time (24hr) in a different time-zone\n",
    "# my_location & their_location: string name of location/time-zone\n",
    "# my_timezone = your time-zone in hrs diff from GMT\n",
    "# their_timezone = other time-zone in hrs diff from GMT\n",
    "# my_time = current time (24hr) at your location\n",
    "\n",
    "def mrwolf(my_timezone, my_location, their_timezone, their_location, my_time):\n",
    "  diff = my_timezone - their_timezone     # The difference between two time zones\n",
    "  their_time = my_time - diff             # Subtract the time difference from my current time\n",
    "\n",
    "  if their_time >= 24:     # If the output time is past midnight, i.e. in tomorrow\n",
    "    their_time -= 24\n",
    "    day = \"tomorrow\"\n",
    "  elif their_time < 0:    # If the output time is before previous midnight, i.e. in yesterday\n",
    "    their_time += 24\n",
    "    day = \"yesterday\"\n",
    "  else:\n",
    "    day = \"today\"\n",
    "\n",
    "  print(\"At \" + str(my_time) + \"/24 in \" + \n",
    "    my_location + \", \" + \"the time in \" + \n",
    "    their_location + \" is:\")\n",
    "  print(str(their_time) + \"/24 \" + day)\n",
    "  print(\"\")     # Insert some free space weeeeeeeee\n",
    "\n",
    "# Example code:\n",
    "\n",
    "# Melbourne GMT+10, Vancouver GMT-7\n",
    "# At 8AM in Melbourne, what time is it in Vancouver?\n",
    "mrwolf(10, \"Melbourne\", -7, \"Vancouver\", 8)\n",
    "\n",
    "# New York 2PM -> Tokyo\n",
    "mrwolf(-4, \"New York\", 9, \"Tokyo\", 14)\n",
    "\n",
    "# New Delhi 10AM -> Adelaide\n",
    "mrwolf(5.5, \"New Delhi\", 9.5, \"Adelaide\", 10)\n",
    "\n",
    "# Note that the way the time differences are calculated\n",
    "# allows you to convert both forwards and backwards in time zone"
   ]
  },
  {
   "cell_type": "markdown",
   "metadata": {
    "id": "fpMUkok5_QPn"
   },
   "source": [
    "# **Thanks for coming to Workshop 4! Please fill out the [feedback form](https://www.tinyurl.com/MDCodingWorkshopFeedback)**."
   ]
  }
 ],
 "metadata": {
  "colab": {
   "collapsed_sections": [],
   "name": "ANSWERS Worksheet 4.ipynb",
   "provenance": [],
   "toc_visible": true
  },
  "kernelspec": {
   "display_name": "Python 3",
   "language": "python",
   "name": "python3"
  },
  "language_info": {
   "codemirror_mode": {
    "name": "ipython",
    "version": 3
   },
   "file_extension": ".py",
   "mimetype": "text/x-python",
   "name": "python",
   "nbconvert_exporter": "python",
   "pygments_lexer": "ipython3",
   "version": "3.7.6"
  }
 },
 "nbformat": 4,
 "nbformat_minor": 4
}
